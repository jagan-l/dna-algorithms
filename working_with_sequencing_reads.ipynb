{
 "cells": [
  {
   "cell_type": "code",
   "execution_count": 31,
   "id": "f7f1c116-30e7-4bd1-90ce-e02e97b7226a",
   "metadata": {},
   "outputs": [
    {
     "name": "stdout",
     "output_type": "stream",
     "text": [
      "--2025-10-05 19:17:19--  https://raw.githubusercontent.com/claytonjwong/Algorithms-DNA-Sequencing/refs/heads/master/1_week/ERR037900_1.first1000.fastq\n",
      "Resolving raw.githubusercontent.com (raw.githubusercontent.com)... 185.199.109.133, 185.199.111.133, 185.199.108.133, ...\n",
      "connected. to raw.githubusercontent.com (raw.githubusercontent.com)|185.199.109.133|:443... \n",
      "200 OKequest sent, awaiting response... \n",
      "Length: 241626 (236K) [text/plain]\n",
      "Saving to: ‘ERR037900_1.first1000.fastq’\n",
      "\n",
      "ERR037900_1.first10 100%[===================>] 235.96K  --.-KB/s    in 0.04s   \n",
      "\n",
      "2025-10-05 19:17:19 (5.57 MB/s) - ‘ERR037900_1.first1000.fastq’ saved [241626/241626]\n",
      "\n"
     ]
    }
   ],
   "source": [
    "!wget https://raw.githubusercontent.com/claytonjwong/Algorithms-DNA-Sequencing/refs/heads/master/1_week/ERR037900_1.first1000.fastq"
   ]
  },
  {
   "cell_type": "code",
   "execution_count": 32,
   "id": "355f8fd6-37ae-4114-8826-a6ec0714e7c2",
   "metadata": {},
   "outputs": [],
   "source": [
    "def readFastq(filename):\n",
    "    sequences = [] \n",
    "    qualities = []\n",
    "    with open(filename) as fh:\n",
    "        while True:\n",
    "            fh.readline() #first line contains metadata\n",
    "            seq = fh.readline().rstrip() #second line contains the reads\n",
    "            fh.readline() #third line is just \"+\"\n",
    "            qual = fh.readline().strip() #fourth line contains quality score\n",
    "            if len(seq) == 0:\n",
    "                break \n",
    "            sequences.append(seq)\n",
    "            qualities.append(qual)\n",
    "    return sequences, qualities\n",
    "seqs, qual = readFastq('ERR037900_1.first1000.fastq')"
   ]
  },
  {
   "cell_type": "code",
   "execution_count": 36,
   "id": "a026d241-47e3-4f8b-8160-fbb5d26c94b9",
   "metadata": {},
   "outputs": [
    {
     "data": {
      "text/plain": [
       "['TAACCCTAACCCTAACCCTAACCCTAACCCTAACCCTAACCCTAACCCTAACCCTAACCCTAACCCNAACCCTAACCCTAACCCTAACCCTAACCCTAAC',\n",
       " 'TAACCCTAACCCTAACCCTAACCCTAACCCTAACCCTAACCCTAACCCTAACCCTAACCCTAACCCNAACCCTAACCCTAACCCTAACCCTNACCCTAAC',\n",
       " 'TAACCCTAACCCTAACCCTAACCCTAACCCTAACCCTAACCCTAACCCTAACCCTAACCCTAACCCNAACCCTAACCCTAACCCTAACCCTAACCCTAAC',\n",
       " 'TAACCCTAACCCTAACCCTAACCCTAACCCTAACCCTAACCCTAACCCTAACCCTAACCCTAACCCNAACCCTAACCCTAACCCTAACCCTAACCCTACC',\n",
       " 'AACCCTAACCCTAACCCTAACCCTAACCCTAACCCTAACCCTAACCCTAACCCTAACCCTAACCCTNACCCTAACCCTAACCCTAACCCTAAACCTAACC']"
      ]
     },
     "execution_count": 36,
     "metadata": {},
     "output_type": "execute_result"
    }
   ],
   "source": [
    "#first 5 reads\n",
    "seqs[:5]"
   ]
  },
  {
   "cell_type": "code",
   "execution_count": 37,
   "id": "e999d0cf-4f62-4d8f-893c-daf3cf9e4983",
   "metadata": {},
   "outputs": [
    {
     "data": {
      "text/plain": [
       "['HHHHHHHHHHHHHHHHHHHHHHHHHHHHHHHHHHHHHHHHHHHGFHHHFHFFHHHHHGHHFHEH@4#55554455HGFBF<@C>7EEF@FBEDDD<=C<E',\n",
       " 'HHHHHHHHHHHHHHHHHHHHHHHHHHHHHHHHHHHHHHHHHHHHHHHHHHHHHHHHCHHHHEHHBA#C>@54455C/7=CGHEGEB;C############',\n",
       " 'HHHHHHHHHHHHHHHHHHHHHHHHHHHHHHGHHHHHHHHHHHHHDHHHDEHHHHFGIHEHEGGGF4#45655366GIGEHAGBG################',\n",
       " 'HHHHHHHHHHHHHHHHHHHHHHHHHIHHHHHHHHHHHHHHHHHHHHHHIHHHHHIHFHHHIHHHHD#ECA54655GGIBH?BD@+BCBF?5A=::>8?##',\n",
       " 'HHHHHHHHHHHHHHHHHHHHHHHHHHHHHHHHHHHHHHHHHHHHHHHIHIHEHHIGHIFFHIIGF6#555:2=7=CB;?3CAACBAC2B###########']"
      ]
     },
     "execution_count": 37,
     "metadata": {},
     "output_type": "execute_result"
    }
   ],
   "source": [
    "# first 5 quality scores\n",
    "qual[:5]"
   ]
  },
  {
   "cell_type": "code",
   "execution_count": 39,
   "id": "0f1227c8-adbd-46b6-b0f9-a588aa3755f5",
   "metadata": {},
   "outputs": [],
   "source": [
    "#convert ASSCI symbol to quality score\n",
    "def phread33ToQ(qual): \n",
    "    #function ord will take the ASSCI value to a number\n",
    "    return ord(qual) - 33"
   ]
  },
  {
   "cell_type": "code",
   "execution_count": 45,
   "id": "8c6bba32-5dd0-4ff2-8e44-0686b4437e8e",
   "metadata": {},
   "outputs": [
    {
     "data": {
      "text/plain": [
       "2"
      ]
     },
     "execution_count": 45,
     "metadata": {},
     "output_type": "execute_result"
    }
   ],
   "source": [
    "#lets check what's the quality score of \"#\"\n",
    "phread33ToQ('#')"
   ]
  },
  {
   "cell_type": "code",
   "execution_count": 46,
   "id": "4f94da65-e394-476b-8b14-660eb3f8d358",
   "metadata": {},
   "outputs": [
    {
     "name": "stdout",
     "output_type": "stream",
     "text": [
      "[0, 0, 17723, 0, 2, 11, 11, 28, 23, 55, 100, 111, 86, 174, 185, 272, 317, 259, 390, 1523, 2782, 762, 286, 413, 403, 538, 351, 694, 971, 777, 1024, 1449, 1341, 1312, 1916, 2233, 3025, 4043, 6640, 45696, 2074, 0, 0, 0, 0, 0, 0, 0, 0, 0]\n"
     ]
    }
   ],
   "source": [
    "def createHist(qualities):\n",
    "    #keep track of frequency of each qality score\n",
    "    hist = [0] * 50 #50 is the highest score \n",
    "    for qual in qualities:\n",
    "        for phred in qual:\n",
    "            q = phread33ToQ(phred)\n",
    "            hist[q] += 1\n",
    "    return hist\n",
    "h = createHist(qual)\n",
    "print(h)\n",
    "    "
   ]
  },
  {
   "cell_type": "code",
   "execution_count": 49,
   "id": "9afdb933-3259-47b6-bd43-b58f533e5fd5",
   "metadata": {},
   "outputs": [
    {
     "data": {
      "image/png": "[encoded data removed]",
      "text/plain": [
       "<Figure size 640x480 with 1 Axes>"
      ]
     },
     "metadata": {},
     "output_type": "display_data"
    }
   ],
   "source": [
    "%matplotlib inline\n",
    "import matplotlib.pyplot as plt\n",
    "plt.bar(range(len(h)),h)\n",
    "plt.show()"
   ]
  },
  {
   "cell_type": "code",
   "execution_count": null,
   "id": "5f1aa1a6-d476-4485-9292-36756a58904b",
   "metadata": {},
   "outputs": [],
   "source": []
  }
 ],
 "metadata": {
  "kernelspec": {
   "display_name": "Python [conda env:base] *",
   "language": "python",
   "name": "conda-base-py"
  },
  "language_info": {
   "codemirror_mode": {
    "name": "ipython",
    "version": 3
   },
   "file_extension": ".py",
   "mimetype": "text/x-python",
   "name": "python",
   "nbconvert_exporter": "python",
   "pygments_lexer": "ipython3",
   "version": "3.13.5"
  }
 },
 "nbformat": 4,
 "nbformat_minor": 5
}
